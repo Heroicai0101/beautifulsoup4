{
 "cells": [
  {
   "cell_type": "code",
   "execution_count": 2,
   "metadata": {
    "collapsed": false
   },
   "outputs": [],
   "source": [
    "import requests\n",
    "from bs4 import BeautifulSoup"
   ]
  },
  {
   "cell_type": "code",
   "execution_count": 21,
   "metadata": {
    "collapsed": false
   },
   "outputs": [],
   "source": [
    "res = requests.get(\"http://tieba.baidu.com/p/2717126631\")"
   ]
  },
  {
   "cell_type": "code",
   "execution_count": 28,
   "metadata": {
    "collapsed": false
   },
   "outputs": [],
   "source": [
    "soup = BeautifulSoup(res.text)\n",
    "# print soup"
   ]
  },
  {
   "cell_type": "code",
   "execution_count": 30,
   "metadata": {
    "collapsed": false
   },
   "outputs": [
    {
     "name": "stdout",
     "output_type": "stream",
     "text": [
      "4\n"
     ]
    }
   ],
   "source": [
    "img_tags = soup.select('img.BDE_Image')"
   ]
  },
  {
   "cell_type": "code",
   "execution_count": 31,
   "metadata": {
    "collapsed": false
   },
   "outputs": [
    {
     "data": {
      "text/plain": [
       "['http://imgsrc.baidu.com/forum/w%3D580/sign=1e5d2e2f4890f60304b09c4f0913b370/224bd60735fae6cdef56097f0db30f2443a70faa.jpg',\n",
       " 'http://imgsrc.baidu.com/forum/w%3D580/sign=28087e1dca95d143da76e42b43f18296/c7eb4510b912c8fca96164d3fe039245d78821fa.jpg',\n",
       " 'http://imgsrc.baidu.com/forum/w%3D580/sign=fdd993b5013b5bb5bed720f606d2d523/e45d249759ee3d6d801615d541166d224e4adeb9.jpg',\n",
       " 'http://imgsrc.baidu.com/forum/w%3D580/sign=713659dae2fe9925cb0c695804a85ee4/c3694936acaf2edde8d308f68f1001e93901936b.jpg']"
      ]
     },
     "execution_count": 31,
     "metadata": {},
     "output_type": "execute_result"
    }
   ],
   "source": [
    "[img_tag['src'] for img_tag in img_tags]"
   ]
  },
  {
   "cell_type": "code",
   "execution_count": null,
   "metadata": {
    "collapsed": true
   },
   "outputs": [],
   "source": []
  }
 ],
 "metadata": {
  "kernelspec": {
   "display_name": "Python 2",
   "language": "python",
   "name": "python2"
  },
  "language_info": {
   "codemirror_mode": {
    "name": "ipython",
    "version": 2
   },
   "file_extension": ".py",
   "mimetype": "text/x-python",
   "name": "python",
   "nbconvert_exporter": "python",
   "pygments_lexer": "ipython2",
   "version": "2.7.10"
  }
 },
 "nbformat": 4,
 "nbformat_minor": 0
}
