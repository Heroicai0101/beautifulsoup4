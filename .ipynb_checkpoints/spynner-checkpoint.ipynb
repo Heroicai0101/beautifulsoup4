{
 "cells": [
  {
   "cell_type": "code",
   "execution_count": 1,
   "metadata": {
    "collapsed": false
   },
   "outputs": [
    {
     "data": {
      "text/plain": [
       "u'C:\\\\Users\\\\heroicai\\\\cgx_github\\\\beautifulsoup4'"
      ]
     },
     "execution_count": 1,
     "metadata": {},
     "output_type": "execute_result"
    }
   ],
   "source": [
    "pwd"
   ]
  },
  {
   "cell_type": "code",
   "execution_count": null,
   "metadata": {
    "collapsed": true
   },
   "outputs": [],
   "source": [
    "import spynner\n",
    "import pyquery\n",
    "import time\n",
    "from bs4 import BeautifulSoup\n",
    "\n",
    "\n",
    "browser = spynner.Browser()\n",
    "browser.create_webview()\n",
    "browser.set_html_parser(pyquery.PyQuery)\n",
    "browser.load(\"http://list.jd.com/list.html?cat=670,671,672\", 20)\n",
    "\n",
    "try:\n",
    "    browser.wait_load(10)\n",
    "except:\n",
    "    pass\n",
    "\n",
    "string = browser.html\n",
    "browser.close()\n",
    "\n",
    " \n",
    "\n",
    "soup = BeautifulSoup.BeautifulSoup(string)\n",
    "time.sleep(2)\n",
    "\n",
    "tags1 =\n",
    "soup.findAll('div', {'class': 'lh-wrap'})\n",
    "\n",
    " \n",
    "\n",
    "for\n",
    "tag in\n",
    "tags1:\n",
    "\n",
    "    print\n",
    "tag.contents[2].contents[1]['id'], tag.contents[2].contents[0].text, \"  \", tag.contents[1].contents[0].contents[0]\n"
   ]
  }
 ],
 "metadata": {
  "kernelspec": {
   "display_name": "Python 2",
   "language": "python",
   "name": "python2"
  },
  "language_info": {
   "codemirror_mode": {
    "name": "ipython",
    "version": 2
   },
   "file_extension": ".py",
   "mimetype": "text/x-python",
   "name": "python",
   "nbconvert_exporter": "python",
   "pygments_lexer": "ipython2",
   "version": "2.7.10"
  }
 },
 "nbformat": 4,
 "nbformat_minor": 0
}
